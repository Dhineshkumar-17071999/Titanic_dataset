{
 "cells": [
  {
   "cell_type": "markdown",
   "metadata": {},
   "source": [
    "### Importing Libraries"
   ]
  },
  {
   "cell_type": "code",
   "execution_count": null,
   "metadata": {},
   "outputs": [],
   "source": [
    "# import numpy as np\n",
    "# import pandas as pd\n",
    "# import seaborn as sns\n",
    "# import matplotlib.pyplot as plt\n",
    "# %matplotlib inline\n",
    "\n",
    "# from sklearn.linear_model import LinearRegression\n",
    "# from sklearn.ensemble import RandomForestClassifier\n",
    "# from sklearn.preprocessing import RobustScaler\n",
    "# from scipy.stats.mstats import winsorize\n",
    "# import scipy.stats as stats\n",
    "# from scipy.stats import shapiro\n",
    "# from sklearn.preprocessing import MinMaxScaler\n",
    "# from sklearn.preprocessing import LabelEncoder"
   ]
  },
  {
   "cell_type": "markdown",
   "metadata": {},
   "source": [
    "### Importing Dataset"
   ]
  },
  {
   "cell_type": "code",
   "execution_count": null,
   "metadata": {},
   "outputs": [],
   "source": [
    "# train_df = pd.read_csv('./dataset/train.csv')\n",
    "# test_df = pd.read_csv('./dataset/test.csv')"
   ]
  },
  {
   "cell_type": "markdown",
   "metadata": {},
   "source": [
    "Create a copy of train data frame"
   ]
  },
  {
   "cell_type": "code",
   "execution_count": null,
   "metadata": {},
   "outputs": [],
   "source": [
    "# copy_train_df = train_df.copy()"
   ]
  },
  {
   "cell_type": "code",
   "execution_count": null,
   "metadata": {},
   "outputs": [],
   "source": [
    "# # get basics of dataframe\n",
    "# def get_dataframe_shape(df):\n",
    "#     return df.shape\n",
    "\n",
    "# def get_dataframe_info(df):\n",
    "#     return df.info()\n",
    "\n",
    "# def get_describe(df):\n",
    "#     return df.describe()\n",
    "\n",
    "# def get_dataframe_head(df, limit = None):\n",
    "#     return df.head(limit)\n",
    "\n",
    "# def get_dataframe_tail(df, limit = None):\n",
    "#     return df.tail(limit)\n",
    "\n",
    "# def get_dataframe_columns(df):\n",
    "#     return df.columns\n",
    "\n",
    "# def get_features_value_counts(df, column):\n",
    "#     return df[column].value_counts()\n",
    "\n",
    "# def get_dataframe_particular_columns(df, columns, limit = None):\n",
    "#     return df[columns].head(limit)\n",
    "\n",
    "# def check_skew_value(df, column):\n",
    "#     return df[column].skew()\n",
    "\n",
    "# def drop_columns(df, columns):\n",
    "#     return df.drop(columns = [columns], inplace = True)\n",
    "\n",
    "# def numerical_columns(df):\n",
    "#     return df.select_dtypes(include = ['int64', 'float64']).columns\n",
    "\n",
    "# def categorical_columns(df):\n",
    "#     return df.select_dtypes(include = ['object']).columns"
   ]
  },
  {
   "cell_type": "code",
   "execution_count": null,
   "metadata": {},
   "outputs": [],
   "source": [
    "# def get_boxplot(df, column):\n",
    "#     sns.boxplot(x = df[column], data = df)\n",
    "#     plt.title(column)\n",
    "#     plt.show()\n",
    "\n",
    "# def get_histogram(df, column, bins = None):\n",
    "#     plt.hist(df[column], bins = bins, edgecolor = 'black')\n",
    "#     plt.title(column)\n",
    "#     plt.show()\n",
    "\n",
    "# def get_kde_plot(df, column):\n",
    "#     sns.kdeplot(df[column], fill= True)\n",
    "#     plt.title(column)\n",
    "#     plt.show()\n",
    "    "
   ]
  },
  {
   "cell_type": "code",
   "execution_count": null,
   "metadata": {},
   "outputs": [],
   "source": [
    "# get_dataframe_head(copy_train_df, 3)"
   ]
  },
  {
   "cell_type": "markdown",
   "metadata": {},
   "source": [
    "Copy the dataframe"
   ]
  },
  {
   "cell_type": "code",
   "execution_count": null,
   "metadata": {},
   "outputs": [],
   "source": [
    "# copy_train_df = train_df.copy()"
   ]
  },
  {
   "cell_type": "code",
   "execution_count": null,
   "metadata": {},
   "outputs": [],
   "source": [
    "# # get dataframe shape\n",
    "# get_dataframe_shape(copy_train_df)"
   ]
  },
  {
   "cell_type": "code",
   "execution_count": null,
   "metadata": {},
   "outputs": [],
   "source": [
    "# get_describe(copy_train_df)"
   ]
  },
  {
   "cell_type": "markdown",
   "metadata": {},
   "source": [
    "Remove unwanted columns"
   ]
  },
  {
   "cell_type": "code",
   "execution_count": null,
   "metadata": {},
   "outputs": [],
   "source": [
    "# drop_columns(copy_train_df, 'PassengerId')"
   ]
  },
  {
   "cell_type": "markdown",
   "metadata": {},
   "source": [
    "Print all columns"
   ]
  },
  {
   "cell_type": "code",
   "execution_count": null,
   "metadata": {},
   "outputs": [],
   "source": [
    "# get_dataframe_columns(copy_train_df)"
   ]
  },
  {
   "cell_type": "markdown",
   "metadata": {},
   "source": [
    "Print numerical and categorical columns"
   ]
  },
  {
   "cell_type": "code",
   "execution_count": null,
   "metadata": {},
   "outputs": [],
   "source": [
    "# print(f\"Numerical columns: {numerical_columns(copy_train_df)}\")\n",
    "# print(f\"Categorical columns: {categorical_columns(copy_train_df)}\")"
   ]
  },
  {
   "cell_type": "markdown",
   "metadata": {},
   "source": [
    "Check duplicate column"
   ]
  },
  {
   "cell_type": "code",
   "execution_count": null,
   "metadata": {},
   "outputs": [],
   "source": [
    "# duplicates = copy_train_df.duplicated()\n",
    "# copy_train_df[duplicates]"
   ]
  },
  {
   "cell_type": "code",
   "execution_count": null,
   "metadata": {},
   "outputs": [],
   "source": []
  }
 ],
 "metadata": {
  "kernelspec": {
   "display_name": "machine_learning",
   "language": "python",
   "name": "python3"
  },
  "language_info": {
   "codemirror_mode": {
    "name": "ipython",
    "version": 3
   },
   "file_extension": ".py",
   "mimetype": "text/x-python",
   "name": "python",
   "nbconvert_exporter": "python",
   "pygments_lexer": "ipython3",
   "version": "3.12.5"
  }
 },
 "nbformat": 4,
 "nbformat_minor": 2
}
