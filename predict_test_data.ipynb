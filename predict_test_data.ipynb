{
 "cells": [
  {
   "cell_type": "code",
   "execution_count": null,
   "metadata": {},
   "outputs": [],
   "source": [
    "import numpy as np\n",
    "import pandas as pd\n",
    "from sklearn.linear_model import LinearRegression\n",
    "from sklearn.ensemble import RandomForestClassifier\n",
    "from sklearn.preprocessing import LabelEncoder\n",
    "import joblib"
   ]
  },
  {
   "cell_type": "code",
   "execution_count": null,
   "metadata": {},
   "outputs": [],
   "source": [
    "test_df = pd.read_csv('./dataset/test.csv')\n",
    "copy_test_df = test_df.copy()"
   ]
  },
  {
   "cell_type": "code",
   "execution_count": null,
   "metadata": {},
   "outputs": [],
   "source": [
    "copy_test_df.isnull().sum()"
   ]
  },
  {
   "cell_type": "code",
   "execution_count": null,
   "metadata": {},
   "outputs": [],
   "source": [
    "copy_test_df = copy_test_df.dropna(subset = ['Fare'])"
   ]
  },
  {
   "cell_type": "code",
   "execution_count": null,
   "metadata": {},
   "outputs": [],
   "source": [
    "train_data = copy_test_df[copy_test_df['Age'].notna()]\n",
    "test_data = copy_test_df[copy_test_df['Age'].isna()]\n",
    "\n",
    "X_train = train_data[['Pclass', 'Sex', 'Fare', 'Embarked']]\n",
    "y_train = train_data['Age']\n",
    "\n",
    "X_test = test_data[['Pclass', 'Sex', 'Fare', 'Embarked']]\n",
    "\n",
    "# convert categorical columns into numeric (e.g using pd.get_dummies)\n",
    "X_train = pd.get_dummies(X_train, drop_first = True)\n",
    "X_test = pd.get_dummies(X_test, drop_first = True)\n",
    "\n",
    "model = LinearRegression()\n",
    "model.fit(X_train, y_train)\n",
    "\n",
    "predicted_ages = model.predict(X_test)\n",
    "\n",
    "copy_test_df.loc[copy_test_df['Age'].isna(), 'Age'] = predicted_ages"
   ]
  },
  {
   "cell_type": "code",
   "execution_count": null,
   "metadata": {},
   "outputs": [],
   "source": [
    "# Using regression model to replace missing values of Cabin column\n",
    "copy_test_df['Cabin'] = copy_test_df['Cabin'].fillna('Unknown')\n",
    "\n",
    "dummy_train_df = copy_test_df.copy()\n",
    "\n",
    "dummy_train_df['CabinLetter'] = dummy_train_df['Cabin'].str[0]\n",
    "\n",
    "dummy_train_df = pd.get_dummies(dummy_train_df, columns = ['CabinLetter', 'Sex', 'Embarked'], drop_first=True)\n",
    "\n",
    "X_train_cabin = dummy_train_df[dummy_train_df['Cabin'] != 'Unknown'][['Pclass', 'Fare', 'Sex_male', 'Embarked_Q', 'Embarked_S','CabinLetter_B', 'CabinLetter_C', 'CabinLetter_D','CabinLetter_E','CabinLetter_F','CabinLetter_G','CabinLetter_U']]\n",
    "y_train_cabin = dummy_train_df[dummy_train_df['Cabin'] != 'Unknown']['Cabin']\n",
    "\n",
    "X_test_cabin = dummy_train_df[dummy_train_df['Cabin'] == 'Unknown'][['Pclass', 'Fare', 'Sex_male', 'Embarked_Q', 'Embarked_S','CabinLetter_B', 'CabinLetter_C', 'CabinLetter_D','CabinLetter_E','CabinLetter_F','CabinLetter_G','CabinLetter_U']]\n",
    "\n",
    "cabin_model = RandomForestClassifier()\n",
    "cabin_model.fit(X_train_cabin, y_train_cabin)\n",
    "\n",
    "predicted_cabin = cabin_model.predict(X_test_cabin)\n",
    "\n",
    "copy_test_df.loc[copy_test_df['Cabin'] == 'Unknown', 'Cabin'] = predicted_cabin"
   ]
  },
  {
   "cell_type": "code",
   "execution_count": null,
   "metadata": {},
   "outputs": [],
   "source": [
    "copy_test_df['FamilySize'] = copy_test_df['SibSp'] + copy_test_df['Parch']\n",
    "copy_test_df['FarePerPerson'] = copy_test_df['Fare'] / (copy_test_df['FamilySize'] + 1)\n",
    "copy_test_df['IsAlone'] = (copy_test_df['FamilySize'] == 0).astype(int)\n",
    "copy_test_df['Title'] = copy_test_df['Name'].str.extract(r' ([A-Za-z]+)\\.', expand = False)\n",
    "copy_test_df['AgeGroup'] = pd.cut(copy_test_df['Age'], bins = [0,12,18,60,100], labels = ['Child', 'Teen', 'Adult', 'Senior'])\n",
    "copy_test_df['Deck'] = copy_test_df['Cabin'].str[0]\n",
    "copy_test_df['FareGroup'] = pd.qcut(copy_test_df['Fare'], 4, labels = ['Low', 'Medium', 'High', 'Very High'])\n",
    "tickets_count = copy_test_df['Ticket'].value_counts()\n",
    "copy_test_df['TickerFrequency'] = copy_test_df['Ticket'].map(tickets_count)\n",
    "copy_test_df['Pclass_Age'] = copy_test_df['Pclass'] * copy_test_df['Age']\n",
    "copy_test_df['Embarked_Pclass'] = copy_test_df['Embarked'].astype(str) + '_' + copy_test_df['Pclass'].astype(str)"
   ]
  },
  {
   "cell_type": "code",
   "execution_count": null,
   "metadata": {},
   "outputs": [],
   "source": [
    "columns_to_drop = ['Name', 'Ticket', 'Cabin', \n",
    "                   'Fare', 'Parch', 'SibSp']\n",
    "copy_test_df = copy_test_df.drop(columns = columns_to_drop)"
   ]
  },
  {
   "cell_type": "code",
   "execution_count": null,
   "metadata": {},
   "outputs": [],
   "source": [
    "le = LabelEncoder()\n",
    "copy_test_df['Sex'] = le.fit_transform(copy_test_df['Sex'])"
   ]
  },
  {
   "cell_type": "code",
   "execution_count": null,
   "metadata": {},
   "outputs": [],
   "source": [
    "copy_test_df = pd.get_dummies(copy_test_df, columns = ['AgeGroup','FareGroup','Embarked','Title','Deck','Embarked_Pclass'], drop_first=True)"
   ]
  },
  {
   "cell_type": "code",
   "execution_count": null,
   "metadata": {},
   "outputs": [],
   "source": [
    "from sklearn.preprocessing import MinMaxScaler\n",
    "scaler = MinMaxScaler()\n",
    "columns_to_normalize = ['Pclass', 'Age', 'FamilySize', 'FarePerPerson', 'IsAlone','TickerFrequency','Pclass_Age']\n",
    "copy_test_df[columns_to_normalize] = scaler.fit_transform(copy_test_df[columns_to_normalize])"
   ]
  },
  {
   "cell_type": "code",
   "execution_count": null,
   "metadata": {},
   "outputs": [],
   "source": [
    "copy_test_df.head()"
   ]
  },
  {
   "cell_type": "code",
   "execution_count": null,
   "metadata": {},
   "outputs": [],
   "source": [
    "X_test = copy_test_df.drop(columns=['PassengerId'])\n",
    "model = joblib.load('decision_tree_model.pkl')\n",
    "y_pred = model.predict(X_test)\n",
    "output = pd.DataFrame({'PassengerId':copy_test_df['PassengerId'], 'Survivied':y_pred})"
   ]
  },
  {
   "cell_type": "code",
   "execution_count": null,
   "metadata": {},
   "outputs": [],
   "source": [
    "copy_test_df.columns"
   ]
  },
  {
   "cell_type": "code",
   "execution_count": null,
   "metadata": {},
   "outputs": [],
   "source": []
  }
 ],
 "metadata": {
  "kernelspec": {
   "display_name": "machine_learning",
   "language": "python",
   "name": "python3"
  },
  "language_info": {
   "codemirror_mode": {
    "name": "ipython",
    "version": 3
   },
   "file_extension": ".py",
   "mimetype": "text/x-python",
   "name": "python",
   "nbconvert_exporter": "python",
   "pygments_lexer": "ipython3",
   "version": "3.12.5"
  }
 },
 "nbformat": 4,
 "nbformat_minor": 2
}
