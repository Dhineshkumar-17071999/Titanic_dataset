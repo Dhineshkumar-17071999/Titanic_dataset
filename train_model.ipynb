{
 "cells": [
  {
   "cell_type": "markdown",
   "metadata": {},
   "source": [
    "Importing Libraries"
   ]
  },
  {
   "cell_type": "code",
   "execution_count": 13,
   "metadata": {},
   "outputs": [],
   "source": [
    "import pandas as pd\n",
    "import numpy as np\n",
    "import matplotlib.pyplot as plt\n",
    "import seaborn as sns\n",
    "import warnings\n",
    "warnings.filterwarnings('ignore')\n",
    "from sklearn.metrics import roc_auc_score, roc_curve\n",
    "from sklearn.metrics import accuracy_score, confusion_matrix, classification_report, f1_score, recall_score, precision_score\n",
    "from sklearn.model_selection import train_test_split\n",
    "from sklearn.linear_model import LogisticRegression, RidgeClassifier\n",
    "from sklearn.svm import SVC\n",
    "from sklearn.tree import DecisionTreeClassifier\n",
    "from sklearn.ensemble import RandomForestClassifier\n",
    "from sklearn.ensemble import GradientBoostingClassifier\n",
    "from sklearn.ensemble import AdaBoostClassifier\n",
    "# from catboost import CatBoostClassifier\n",
    "from sklearn.ensemble import VotingClassifier\n",
    "from sklearn.neighbors import KNeighborsClassifier\n",
    "from sklearn.naive_bayes import GaussianNB\n",
    "from xgboost import XGBClassifier\n",
    "from sklearn.neural_network import MLPClassifier\n",
    "from sklearn.model_selection import RandomizedSearchCV"
   ]
  },
  {
   "cell_type": "markdown",
   "metadata": {},
   "source": [
    "Load dataset"
   ]
  },
  {
   "cell_type": "code",
   "execution_count": 2,
   "metadata": {},
   "outputs": [],
   "source": [
    "train_df = pd.read_csv('dataset/final_df.csv')\n",
    "test_df = pd.read_csv('dataset/test.csv')"
   ]
  },
  {
   "cell_type": "code",
   "execution_count": 3,
   "metadata": {},
   "outputs": [
    {
     "data": {
      "text/html": [
       "<div>\n",
       "<style scoped>\n",
       "    .dataframe tbody tr th:only-of-type {\n",
       "        vertical-align: middle;\n",
       "    }\n",
       "\n",
       "    .dataframe tbody tr th {\n",
       "        vertical-align: top;\n",
       "    }\n",
       "\n",
       "    .dataframe thead th {\n",
       "        text-align: right;\n",
       "    }\n",
       "</style>\n",
       "<table border=\"1\" class=\"dataframe\">\n",
       "  <thead>\n",
       "    <tr style=\"text-align: right;\">\n",
       "      <th></th>\n",
       "      <th>PassengerId</th>\n",
       "      <th>Pclass</th>\n",
       "      <th>Name</th>\n",
       "      <th>Sex</th>\n",
       "      <th>Age</th>\n",
       "      <th>SibSp</th>\n",
       "      <th>Parch</th>\n",
       "      <th>Ticket</th>\n",
       "      <th>Fare</th>\n",
       "      <th>Cabin</th>\n",
       "      <th>Embarked</th>\n",
       "    </tr>\n",
       "  </thead>\n",
       "  <tbody>\n",
       "    <tr>\n",
       "      <th>0</th>\n",
       "      <td>892</td>\n",
       "      <td>3</td>\n",
       "      <td>Kelly, Mr. James</td>\n",
       "      <td>male</td>\n",
       "      <td>34.5</td>\n",
       "      <td>0</td>\n",
       "      <td>0</td>\n",
       "      <td>330911</td>\n",
       "      <td>7.8292</td>\n",
       "      <td>NaN</td>\n",
       "      <td>Q</td>\n",
       "    </tr>\n",
       "    <tr>\n",
       "      <th>1</th>\n",
       "      <td>893</td>\n",
       "      <td>3</td>\n",
       "      <td>Wilkes, Mrs. James (Ellen Needs)</td>\n",
       "      <td>female</td>\n",
       "      <td>47.0</td>\n",
       "      <td>1</td>\n",
       "      <td>0</td>\n",
       "      <td>363272</td>\n",
       "      <td>7.0000</td>\n",
       "      <td>NaN</td>\n",
       "      <td>S</td>\n",
       "    </tr>\n",
       "    <tr>\n",
       "      <th>2</th>\n",
       "      <td>894</td>\n",
       "      <td>2</td>\n",
       "      <td>Myles, Mr. Thomas Francis</td>\n",
       "      <td>male</td>\n",
       "      <td>62.0</td>\n",
       "      <td>0</td>\n",
       "      <td>0</td>\n",
       "      <td>240276</td>\n",
       "      <td>9.6875</td>\n",
       "      <td>NaN</td>\n",
       "      <td>Q</td>\n",
       "    </tr>\n",
       "    <tr>\n",
       "      <th>3</th>\n",
       "      <td>895</td>\n",
       "      <td>3</td>\n",
       "      <td>Wirz, Mr. Albert</td>\n",
       "      <td>male</td>\n",
       "      <td>27.0</td>\n",
       "      <td>0</td>\n",
       "      <td>0</td>\n",
       "      <td>315154</td>\n",
       "      <td>8.6625</td>\n",
       "      <td>NaN</td>\n",
       "      <td>S</td>\n",
       "    </tr>\n",
       "    <tr>\n",
       "      <th>4</th>\n",
       "      <td>896</td>\n",
       "      <td>3</td>\n",
       "      <td>Hirvonen, Mrs. Alexander (Helga E Lindqvist)</td>\n",
       "      <td>female</td>\n",
       "      <td>22.0</td>\n",
       "      <td>1</td>\n",
       "      <td>1</td>\n",
       "      <td>3101298</td>\n",
       "      <td>12.2875</td>\n",
       "      <td>NaN</td>\n",
       "      <td>S</td>\n",
       "    </tr>\n",
       "  </tbody>\n",
       "</table>\n",
       "</div>"
      ],
      "text/plain": [
       "   PassengerId  Pclass                                          Name     Sex  \\\n",
       "0          892       3                              Kelly, Mr. James    male   \n",
       "1          893       3              Wilkes, Mrs. James (Ellen Needs)  female   \n",
       "2          894       2                     Myles, Mr. Thomas Francis    male   \n",
       "3          895       3                              Wirz, Mr. Albert    male   \n",
       "4          896       3  Hirvonen, Mrs. Alexander (Helga E Lindqvist)  female   \n",
       "\n",
       "    Age  SibSp  Parch   Ticket     Fare Cabin Embarked  \n",
       "0  34.5      0      0   330911   7.8292   NaN        Q  \n",
       "1  47.0      1      0   363272   7.0000   NaN        S  \n",
       "2  62.0      0      0   240276   9.6875   NaN        Q  \n",
       "3  27.0      0      0   315154   8.6625   NaN        S  \n",
       "4  22.0      1      1  3101298  12.2875   NaN        S  "
      ]
     },
     "execution_count": 3,
     "metadata": {},
     "output_type": "execute_result"
    }
   ],
   "source": [
    "test_df.head()"
   ]
  },
  {
   "cell_type": "code",
   "execution_count": 4,
   "metadata": {},
   "outputs": [],
   "source": [
    "X = train_df.drop('Survived', axis=1)\n",
    "y = train_df['Survived']"
   ]
  },
  {
   "cell_type": "code",
   "execution_count": 5,
   "metadata": {},
   "outputs": [
    {
     "data": {
      "text/plain": [
       "(891, 39)"
      ]
     },
     "execution_count": 5,
     "metadata": {},
     "output_type": "execute_result"
    }
   ],
   "source": [
    "X.shape"
   ]
  },
  {
   "cell_type": "code",
   "execution_count": 6,
   "metadata": {},
   "outputs": [
    {
     "data": {
      "text/plain": [
       "((712, 39), (179, 39), (712,), (179,))"
      ]
     },
     "execution_count": 6,
     "metadata": {},
     "output_type": "execute_result"
    }
   ],
   "source": [
    "X_train, X_test, y_train, y_test = train_test_split(X, y, test_size = 0.2, random_state = 42)\n",
    "X_train.shape, X_test.shape, y_train.shape, y_test.shape"
   ]
  },
  {
   "cell_type": "code",
   "execution_count": 7,
   "metadata": {},
   "outputs": [],
   "source": [
    "def evaluate_model(true, predicted):\n",
    "    accuracy = accuracy_score(true, predicted)\n",
    "    precision = precision_score(true, predicted, average = 'weighted')\n",
    "    recall = recall_score(true, predicted, average = 'weighted')\n",
    "    f1 = f1_score(true, predicted, average = 'weighted')\n",
    "    return accuracy, precision, recall, f1"
   ]
  },
  {
   "cell_type": "code",
   "execution_count": 8,
   "metadata": {},
   "outputs": [
    {
     "name": "stdout",
     "output_type": "stream",
     "text": [
      "Logistic Regression\n",
      "Training Metrics:\n",
      "- Accuracy: 0.9902\n",
      "- Precision: 0.9903\n",
      "- Recall: 0.9902\n",
      "- F1 Score: 0.9901\n",
      "Testing Metrics:\n",
      "- Accuracy: 0.9888\n",
      "- Precision: 0.9888\n",
      "- Recall: 0.9888\n",
      "- F1 Score: 0.9888\n",
      "========================================\n",
      "Ridge Classifier\n",
      "Training Metrics:\n",
      "- Accuracy: 0.9916\n",
      "- Precision: 0.9917\n",
      "- Recall: 0.9916\n",
      "- F1 Score: 0.9916\n",
      "Testing Metrics:\n",
      "- Accuracy: 0.9888\n",
      "- Precision: 0.9888\n",
      "- Recall: 0.9888\n",
      "- F1 Score: 0.9888\n",
      "========================================\n",
      "K-Nearest Neighbors\n",
      "Training Metrics:\n",
      "- Accuracy: 0.9607\n",
      "- Precision: 0.9608\n",
      "- Recall: 0.9607\n",
      "- F1 Score: 0.9605\n",
      "Testing Metrics:\n",
      "- Accuracy: 0.9050\n",
      "- Precision: 0.9049\n",
      "- Recall: 0.9050\n",
      "- F1 Score: 0.9049\n",
      "========================================\n",
      "Decision Tree\n",
      "Training Metrics:\n",
      "- Accuracy: 0.9986\n",
      "- Precision: 0.9986\n",
      "- Recall: 0.9986\n",
      "- F1 Score: 0.9986\n",
      "Testing Metrics:\n",
      "- Accuracy: 0.9944\n",
      "- Precision: 0.9945\n",
      "- Recall: 0.9944\n",
      "- F1 Score: 0.9944\n",
      "========================================\n",
      "Random Forest\n",
      "Training Metrics:\n",
      "- Accuracy: 0.9986\n",
      "- Precision: 0.9986\n",
      "- Recall: 0.9986\n",
      "- F1 Score: 0.9986\n",
      "Testing Metrics:\n",
      "- Accuracy: 0.9832\n",
      "- Precision: 0.9833\n",
      "- Recall: 0.9832\n",
      "- F1 Score: 0.9832\n",
      "========================================\n",
      "XGBoost Classifier\n",
      "Training Metrics:\n",
      "- Accuracy: 0.9972\n",
      "- Precision: 0.9972\n",
      "- Recall: 0.9972\n",
      "- F1 Score: 0.9972\n",
      "Testing Metrics:\n",
      "- Accuracy: 0.9832\n",
      "- Precision: 0.9833\n",
      "- Recall: 0.9832\n",
      "- F1 Score: 0.9833\n",
      "========================================\n",
      "AdaBoost Classifier\n",
      "Training Metrics:\n",
      "- Accuracy: 0.9986\n",
      "- Precision: 0.9986\n",
      "- Recall: 0.9986\n",
      "- F1 Score: 0.9986\n",
      "Testing Metrics:\n",
      "- Accuracy: 0.9888\n",
      "- Precision: 0.9888\n",
      "- Recall: 0.9888\n",
      "- F1 Score: 0.9888\n",
      "========================================\n",
      "SVM\n",
      "Training Metrics:\n",
      "- Accuracy: 0.9902\n",
      "- Precision: 0.9902\n",
      "- Recall: 0.9902\n",
      "- F1 Score: 0.9901\n",
      "Testing Metrics:\n",
      "- Accuracy: 0.9888\n",
      "- Precision: 0.9888\n",
      "- Recall: 0.9888\n",
      "- F1 Score: 0.9888\n",
      "========================================\n",
      "Gradient Boosting Classifier\n",
      "Training Metrics:\n",
      "- Accuracy: 0.9986\n",
      "- Precision: 0.9986\n",
      "- Recall: 0.9986\n",
      "- F1 Score: 0.9986\n",
      "Testing Metrics:\n",
      "- Accuracy: 0.9832\n",
      "- Precision: 0.9833\n",
      "- Recall: 0.9832\n",
      "- F1 Score: 0.9833\n",
      "========================================\n",
      "Navie Bayes\n",
      "Training Metrics:\n",
      "- Accuracy: 0.9860\n",
      "- Precision: 0.9861\n",
      "- Recall: 0.9860\n",
      "- F1 Score: 0.9860\n",
      "Testing Metrics:\n",
      "- Accuracy: 0.9832\n",
      "- Precision: 0.9833\n",
      "- Recall: 0.9832\n",
      "- F1 Score: 0.9833\n",
      "========================================\n"
     ]
    }
   ],
   "source": [
    "models = {\n",
    "    \"Logistic Regression\": LogisticRegression(max_iter=1000),\n",
    "    \"Ridge Classifier\": RidgeClassifier(),\n",
    "    \"K-Nearest Neighbors\": KNeighborsClassifier(),\n",
    "    \"Decision Tree\": DecisionTreeClassifier(),\n",
    "    \"Random Forest\": RandomForestClassifier(),\n",
    "    \"XGBoost Classifier\": XGBClassifier(use_label_encoder = False, eval_metric = 'mlogloss'),\n",
    "    # \"CatBoost Classifier\": CatBoostClassifier(verbose=0),\n",
    "    \"AdaBoost Classifier\": AdaBoostClassifier(),\n",
    "    \"SVM\": SVC(),\n",
    "    \"Gradient Boosting Classifier\": GradientBoostingClassifier(),\n",
    "    \"Navie Bayes\": GaussianNB()\n",
    "\n",
    "}\n",
    "\n",
    "model_list = []\n",
    "accuracy_list = []\n",
    "\n",
    "for name, model in models.items():\n",
    "    model.fit(X_train, y_train)\n",
    "\n",
    "    y_train_pred = model.predict(X_train)\n",
    "    y_test_pred = model.predict(X_test)\n",
    "\n",
    "    train_accuracy, train_precision, train_recall, train_f1 = evaluate_model(y_train, y_train_pred)\n",
    "    test_accuracy, test_precision, test_recall, test_f1 = evaluate_model(y_test, y_test_pred)\n",
    "    \n",
    "    print(f\"{name}\")\n",
    "    model_list.append(name)\n",
    "    \n",
    "    print('Training Metrics:')\n",
    "    print(f\"- Accuracy: {train_accuracy:.4f}\")\n",
    "    print(f\"- Precision: {train_precision:.4f}\")\n",
    "    print(f\"- Recall: {train_recall:.4f}\")\n",
    "    print(f\"- F1 Score: {train_f1:.4f}\")\n",
    "    \n",
    "    print('Testing Metrics:')\n",
    "    print(f\"- Accuracy: {test_accuracy:.4f}\")\n",
    "    print(f\"- Precision: {test_precision:.4f}\")\n",
    "    print(f\"- Recall: {test_recall:.4f}\")\n",
    "    print(f\"- F1 Score: {test_f1:.4f}\")\n",
    "    \n",
    "    accuracy_list.append(test_accuracy)\n",
    "    print(\"=\" * 40)"
   ]
  },
  {
   "cell_type": "code",
   "execution_count": 9,
   "metadata": {},
   "outputs": [
    {
     "data": {
      "text/html": [
       "<div>\n",
       "<style scoped>\n",
       "    .dataframe tbody tr th:only-of-type {\n",
       "        vertical-align: middle;\n",
       "    }\n",
       "\n",
       "    .dataframe tbody tr th {\n",
       "        vertical-align: top;\n",
       "    }\n",
       "\n",
       "    .dataframe thead th {\n",
       "        text-align: right;\n",
       "    }\n",
       "</style>\n",
       "<table border=\"1\" class=\"dataframe\">\n",
       "  <thead>\n",
       "    <tr style=\"text-align: right;\">\n",
       "      <th></th>\n",
       "      <th>Model Name</th>\n",
       "      <th>Accuracy</th>\n",
       "    </tr>\n",
       "  </thead>\n",
       "  <tbody>\n",
       "    <tr>\n",
       "      <th>3</th>\n",
       "      <td>Decision Tree</td>\n",
       "      <td>0.994413</td>\n",
       "    </tr>\n",
       "    <tr>\n",
       "      <th>0</th>\n",
       "      <td>Logistic Regression</td>\n",
       "      <td>0.988827</td>\n",
       "    </tr>\n",
       "    <tr>\n",
       "      <th>1</th>\n",
       "      <td>Ridge Classifier</td>\n",
       "      <td>0.988827</td>\n",
       "    </tr>\n",
       "    <tr>\n",
       "      <th>6</th>\n",
       "      <td>AdaBoost Classifier</td>\n",
       "      <td>0.988827</td>\n",
       "    </tr>\n",
       "    <tr>\n",
       "      <th>7</th>\n",
       "      <td>SVM</td>\n",
       "      <td>0.988827</td>\n",
       "    </tr>\n",
       "    <tr>\n",
       "      <th>4</th>\n",
       "      <td>Random Forest</td>\n",
       "      <td>0.983240</td>\n",
       "    </tr>\n",
       "    <tr>\n",
       "      <th>5</th>\n",
       "      <td>XGBoost Classifier</td>\n",
       "      <td>0.983240</td>\n",
       "    </tr>\n",
       "    <tr>\n",
       "      <th>8</th>\n",
       "      <td>Gradient Boosting Classifier</td>\n",
       "      <td>0.983240</td>\n",
       "    </tr>\n",
       "    <tr>\n",
       "      <th>9</th>\n",
       "      <td>Navie Bayes</td>\n",
       "      <td>0.983240</td>\n",
       "    </tr>\n",
       "    <tr>\n",
       "      <th>2</th>\n",
       "      <td>K-Nearest Neighbors</td>\n",
       "      <td>0.905028</td>\n",
       "    </tr>\n",
       "  </tbody>\n",
       "</table>\n",
       "</div>"
      ],
      "text/plain": [
       "                     Model Name  Accuracy\n",
       "3                 Decision Tree  0.994413\n",
       "0           Logistic Regression  0.988827\n",
       "1              Ridge Classifier  0.988827\n",
       "6           AdaBoost Classifier  0.988827\n",
       "7                           SVM  0.988827\n",
       "4                 Random Forest  0.983240\n",
       "5            XGBoost Classifier  0.983240\n",
       "8  Gradient Boosting Classifier  0.983240\n",
       "9                   Navie Bayes  0.983240\n",
       "2           K-Nearest Neighbors  0.905028"
      ]
     },
     "execution_count": 9,
     "metadata": {},
     "output_type": "execute_result"
    }
   ],
   "source": [
    "pd.DataFrame(list(zip(model_list, accuracy_list)), columns=['Model Name', 'Accuracy']).sort_values(by='Accuracy', ascending=False)"
   ]
  },
  {
   "cell_type": "code",
   "execution_count": 10,
   "metadata": {},
   "outputs": [
    {
     "data": {
      "image/png": "[encoded data removed]",
      "text/plain": [
       "<Figure size 640x480 with 2 Axes>"
      ]
     },
     "metadata": {},
     "output_type": "display_data"
    }
   ],
   "source": [
    "from sklearn.metrics import ConfusionMatrixDisplay\n",
    "best_model = DecisionTreeClassifier()\n",
    "best_model.fit(X_train, y_train)\n",
    "y_pred = best_model.predict(X_test)\n",
    "ConfusionMatrixDisplay.from_estimator(best_model, X_test, y_test)\n",
    "plt.show()"
   ]
  },
  {
   "cell_type": "code",
   "execution_count": 11,
   "metadata": {},
   "outputs": [
    {
     "name": "stdout",
     "output_type": "stream",
     "text": [
      "              precision    recall  f1-score   support\n",
      "\n",
      "           0       0.99      1.00      1.00       105\n",
      "           1       1.00      0.99      0.99        74\n",
      "\n",
      "    accuracy                           0.99       179\n",
      "   macro avg       1.00      0.99      0.99       179\n",
      "weighted avg       0.99      0.99      0.99       179\n",
      "\n"
     ]
    }
   ],
   "source": [
    "print(classification_report(y_test, y_pred))"
   ]
  },
  {
   "cell_type": "code",
   "execution_count": 12,
   "metadata": {},
   "outputs": [
    {
     "data": {
      "image/png": "[encoded data removed]",
      "text/plain": [
       "<Figure size 640x480 with 1 Axes>"
      ]
     },
     "metadata": {},
     "output_type": "display_data"
    }
   ],
   "source": [
    "from sklearn.metrics import precision_recall_curve\n",
    "\n",
    "# Example: Find threshold for optimal precision-recall balance\n",
    "probabilities = best_model.predict_proba(X_test)[:, 1]  # Get probability for positive class\n",
    "precisions, recalls, thresholds = precision_recall_curve(y_test, probabilities)\n",
    "\n",
    "# Plot to find a balance (precision vs recall)\n",
    "plt.plot(thresholds, precisions[:-1], label='Precision')\n",
    "plt.plot(thresholds, recalls[:-1], label='Recall')\n",
    "plt.xlabel('Threshold')\n",
    "plt.legend()\n",
    "plt.show()"
   ]
  },
  {
   "cell_type": "code",
   "execution_count": 14,
   "metadata": {},
   "outputs": [
    {
     "name": "stdout",
     "output_type": "stream",
     "text": [
      "ROC-AUC Score: 0.9932432432432432\n"
     ]
    },
    {
     "data": {
      "image/png": "[encoded data removed]",
      "text/plain": [
       "<Figure size 640x480 with 1 Axes>"
      ]
     },
     "metadata": {},
     "output_type": "display_data"
    }
   ],
   "source": [
    "y_probs = best_model.predict_proba(X_test)[:, 1]\n",
    "roc_auc = roc_auc_score(y_test, y_probs)\n",
    "print(\"ROC-AUC Score:\", roc_auc)\n",
    "# Get the false positive rate, true positive rate, and thresholds\n",
    "fpr, tpr, thresholds = roc_curve(y_test, y_probs)\n",
    "\n",
    "# Plot the ROC curve\n",
    "plt.figure()\n",
    "plt.plot(fpr, tpr, color='blue', label=f\"ROC Curve (AUC = {roc_auc:.2f})\")\n",
    "plt.plot([0, 1], [0, 1], color='gray', linestyle='--')  # Diagonal line for random guessing\n",
    "plt.xlabel(\"False Positive Rate\")\n",
    "plt.ylabel(\"True Positive Rate\")\n",
    "plt.title(\"Receiver Operating Characteristic (ROC) Curve\")\n",
    "plt.legend(loc=\"lower right\")\n",
    "plt.show()"
   ]
  },
  {
   "cell_type": "code",
   "execution_count": 13,
   "metadata": {},
   "outputs": [
    {
     "name": "stdout",
     "output_type": "stream",
     "text": [
      "Fitting 5 folds for each of 36 candidates, totalling 180 fits\n",
      "Best Parameters for DecisionTreeClassifier: {'max_depth': None, 'min_samples_leaf': 1, 'min_samples_split': 10}\n",
      "Best CV Score for DecisionTreeClassifier: 0.988761942283069\n",
      "Fitting 5 folds for each of 108 candidates, totalling 540 fits\n",
      "Best Parameters for RandomForestClassifier: {'max_depth': None, 'min_samples_leaf': 1, 'min_samples_split': 2, 'n_estimators': 50}\n",
      "Best CV Score for RandomForestClassifier: 0.9873633408844678\n"
     ]
    }
   ],
   "source": [
    "from sklearn.tree import DecisionTreeClassifier\n",
    "from sklearn.ensemble import RandomForestClassifier\n",
    "from sklearn.model_selection import GridSearchCV\n",
    "\n",
    "# Define parameter grids for each model\n",
    "param_grid_dt = {\n",
    "    'max_depth': [None, 10, 20, 30],\n",
    "    'min_samples_split': [2, 5, 10],\n",
    "    'min_samples_leaf': [1, 2, 4]\n",
    "}\n",
    "\n",
    "param_grid_rf = {\n",
    "    'n_estimators': [50, 100, 200],\n",
    "    'max_depth': [None, 10, 20, 30],\n",
    "    'min_samples_split': [2, 5, 10],\n",
    "    'min_samples_leaf': [1, 2, 4]\n",
    "}\n",
    "\n",
    "# Initialize each model\n",
    "dt_model = DecisionTreeClassifier(random_state=42)\n",
    "rf_model = RandomForestClassifier(random_state=42)\n",
    "\n",
    "# Set up GridSearchCV for each model\n",
    "grid_search_dt = GridSearchCV(estimator=dt_model, \n",
    "                              param_grid=param_grid_dt, \n",
    "                              scoring='accuracy', \n",
    "                              cv=5, \n",
    "                              verbose=2, \n",
    "                              n_jobs=-1)\n",
    "\n",
    "grid_search_rf = GridSearchCV(estimator=rf_model, \n",
    "                              param_grid=param_grid_rf, \n",
    "                              scoring='accuracy', \n",
    "                              cv=5, \n",
    "                              verbose=2, \n",
    "                              n_jobs=-1)\n",
    "\n",
    "# Fit GridSearchCV for DecisionTreeClassifier\n",
    "grid_search_dt.fit(X_train, y_train)\n",
    "print(\"Best Parameters for DecisionTreeClassifier:\", grid_search_dt.best_params_)\n",
    "print(\"Best CV Score for DecisionTreeClassifier:\", grid_search_dt.best_score_)\n",
    "\n",
    "# Fit GridSearchCV for RandomForestClassifier\n",
    "grid_search_rf.fit(X_train, y_train)\n",
    "print(\"Best Parameters for RandomForestClassifier:\", grid_search_rf.best_params_)\n",
    "print(\"Best CV Score for RandomForestClassifier:\", grid_search_rf.best_score_)"
   ]
  },
  {
   "cell_type": "code",
   "execution_count": null,
   "metadata": {},
   "outputs": [],
   "source": []
  }
 ],
 "metadata": {
  "kernelspec": {
   "display_name": "machine_learning",
   "language": "python",
   "name": "python3"
  },
  "language_info": {
   "codemirror_mode": {
    "name": "ipython",
    "version": 3
   },
   "file_extension": ".py",
   "mimetype": "text/x-python",
   "name": "python",
   "nbconvert_exporter": "python",
   "pygments_lexer": "ipython3",
   "version": "3.12.5"
  }
 },
 "nbformat": 4,
 "nbformat_minor": 2
}
